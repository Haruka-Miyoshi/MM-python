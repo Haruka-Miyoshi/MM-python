{
 "cells": [
  {
   "cell_type": "code",
   "execution_count": 1,
   "metadata": {},
   "outputs": [],
   "source": [
    "import numpy as np"
   ]
  },
  {
   "cell_type": "code",
   "execution_count": null,
   "metadata": {},
   "outputs": [],
   "source": [
    "\"\"\"Markov Model:マルコフモデル\"\"\"\n",
    "class MarkovModel(object):\n",
    "    \"\"\"コンストラクタ\"\"\"\n",
    "    def __init__(self, K:int):\n",
    "        # 状態数K\n",
    "        self.K = K\n",
    "        # サイコロの種類 遷移行列A[wi, wj] -> P(s_t|s_t-1)は状態遷移に関する分布\n",
    "        self.A = None\n",
    "        # サイコロの目 遷移行列B[wi, vk] -> P()\n",
    "        self.B = None\n",
    "        # 初期状態分布P(s1) = row\n",
    "        self.row = np.zeros(K)\n"
   ]
  }
 ],
 "metadata": {
  "kernelspec": {
   "display_name": "py312-cuda",
   "language": "python",
   "name": "python3"
  },
  "language_info": {
   "codemirror_mode": {
    "name": "ipython",
    "version": 3
   },
   "file_extension": ".py",
   "mimetype": "text/x-python",
   "name": "python",
   "nbconvert_exporter": "python",
   "pygments_lexer": "ipython3",
   "version": "3.12.5"
  }
 },
 "nbformat": 4,
 "nbformat_minor": 2
}
